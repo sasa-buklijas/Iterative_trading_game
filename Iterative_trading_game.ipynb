{
 "cells": [
  {
   "cell_type": "code",
   "execution_count": 1,
   "metadata": {},
   "outputs": [],
   "source": [
    "#%matplotlib inline   # not meeded, same result when ON\n",
    "import time\n",
    "import numpy as np\n",
    "import matplotlib.pyplot as plt\n",
    "from IPython import display\n",
    "\n",
    "INIT_COINS = 2\n",
    "INIT_PEOPLE = 30\n",
    "GAME_COST = 1\n",
    "\n",
    "l = [ INIT_COINS ] * INIT_PEOPLE\n",
    "\n",
    "len(l)\n",
    "\n",
    "TOTAL_WEALTH = INIT_COINS * INIT_PEOPLE"
   ]
  },
  {
   "cell_type": "code",
   "execution_count": null,
   "metadata": {},
   "outputs": [
    {
     "data": {
      "image/png": "[encoded data removed]",
      "text/plain": [
       "<Figure size 432x288 with 1 Axes>"
      ]
     },
     "metadata": {},
     "output_type": "display_data"
    }
   ],
   "source": [
    "import random\n",
    "\n",
    "NUMBER_OF_GAMES = 300\n",
    "NUMBER_OF_GAMES = TOTAL_WEALTH * 10 * 2\n",
    "\n",
    "start_index = 0\n",
    "for i in range(NUMBER_OF_GAMES):\n",
    "    rn = random.randint(0, 1)\n",
    "    \n",
    "    if rn == 1:\n",
    "        l[start_index] = l[start_index] + 1\n",
    "        l[start_index+1] = l[start_index+1] - 1\n",
    "        \n",
    "        if l[start_index+1] == 0:\n",
    "            del l[start_index+1]\n",
    "    else:\n",
    "        l[start_index] = l[start_index] - 1\n",
    "        l[start_index+1] = l[start_index+1] + 1\n",
    "        \n",
    "        if l[start_index] == 0:\n",
    "            del l[start_index]\n",
    "    \n",
    "    npl = len(l)\n",
    "    \n",
    "    start_index += 2\n",
    "    if start_index+1 >= len(l):\n",
    "        start_index = 0\n",
    "    \n",
    "    # update chart\n",
    "    plt.clf()   # this is important to clear old data on plot\n",
    "    plt.bar(np.arange(1, npl+1, 1), l)\n",
    "    plt.yticks(np.arange(0, max(l)+1, 1))\n",
    "    plt.xticks(np.arange(1, npl+1, 1))\n",
    "    plt.xlabel('People Left {}/{}'.format(npl, INIT_PEOPLE))\n",
    "    plt.ylabel('Coins')\n",
    "    plt.title('Iterative trading game {}/{}'.format(i+1, NUMBER_OF_GAMES))\n",
    "    display.clear_output(wait=True)   # to have only one picture\n",
    "    display.display(plt.gcf())   # as plt.show()\n",
    "    time.sleep(0.1)\n",
    "    \n",
    "    if npl == 1:\n",
    "        break\n",
    "    \n",
    "# there is some strange bug, I also have plot one more time after loop\n",
    "    \n",
    "# show stats after game\n",
    "#print('From origninal {}, left {}.'.format(INIT_PEOPLE, npl))\n",
    "#print('Left {} of {}.'.format(npl, INIT_PEOPLE))\n",
    "print('Left {}/{}.'.format(npl, INIT_PEOPLE))"
   ]
  },
  {
   "cell_type": "code",
   "execution_count": null,
   "metadata": {},
   "outputs": [],
   "source": []
  }
 ],
 "metadata": {
  "kernelspec": {
   "display_name": "Python 3",
   "language": "python",
   "name": "python3"
  },
  "language_info": {
   "codemirror_mode": {
    "name": "ipython",
    "version": 3
   },
   "file_extension": ".py",
   "mimetype": "text/x-python",
   "name": "python",
   "nbconvert_exporter": "python",
   "pygments_lexer": "ipython3",
   "version": "3.6.5"
  }
 },
 "nbformat": 4,
 "nbformat_minor": 2
}
